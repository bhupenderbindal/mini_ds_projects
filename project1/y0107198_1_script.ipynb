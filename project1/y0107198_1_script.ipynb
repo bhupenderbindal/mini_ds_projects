{
 "cells": [
  {
   "cell_type": "markdown",
   "id": "70332e1d",
   "metadata": {},
   "source": [
    "# Logistic Regression"
   ]
  },
  {
   "cell_type": "markdown",
   "id": "17717005",
   "metadata": {},
   "source": [
    "Problem: Classify whether a person has 10 year coronary heart disease(TenYearCHD) based on certain attributes of the person.\n",
    "Data format: CSV file."
   ]
  },
  {
   "cell_type": "code",
   "execution_count": 1,
   "id": "c3635e42",
   "metadata": {},
   "outputs": [],
   "source": [
    "import numpy as np\n",
    "import pandas as pd\n",
    "import matplotlib.pyplot as plt"
   ]
  },
  {
   "cell_type": "code",
   "execution_count": 2,
   "id": "cad6635b",
   "metadata": {},
   "outputs": [],
   "source": [
    "df = pd.read_csv('project1_logreg.csv') \n"
   ]
  },
  {
   "cell_type": "code",
   "execution_count": 3,
   "id": "1bd7f089",
   "metadata": {},
   "outputs": [
    {
     "data": {
      "text/html": [
       "<div>\n",
       "<style scoped>\n",
       "    .dataframe tbody tr th:only-of-type {\n",
       "        vertical-align: middle;\n",
       "    }\n",
       "\n",
       "    .dataframe tbody tr th {\n",
       "        vertical-align: top;\n",
       "    }\n",
       "\n",
       "    .dataframe thead th {\n",
       "        text-align: right;\n",
       "    }\n",
       "</style>\n",
       "<table border=\"1\" class=\"dataframe\">\n",
       "  <thead>\n",
       "    <tr style=\"text-align: right;\">\n",
       "      <th></th>\n",
       "      <th>male</th>\n",
       "      <th>age</th>\n",
       "      <th>education</th>\n",
       "      <th>currentSmoker</th>\n",
       "      <th>cigsPerDay</th>\n",
       "      <th>BPMeds</th>\n",
       "      <th>prevalentStroke</th>\n",
       "      <th>prevalentHyp</th>\n",
       "      <th>diabetes</th>\n",
       "      <th>totChol</th>\n",
       "      <th>sysBP</th>\n",
       "      <th>diaBP</th>\n",
       "      <th>BMI</th>\n",
       "      <th>heartRate</th>\n",
       "      <th>glucose</th>\n",
       "      <th>TenYearCHD</th>\n",
       "    </tr>\n",
       "  </thead>\n",
       "  <tbody>\n",
       "    <tr>\n",
       "      <th>0</th>\n",
       "      <td>1</td>\n",
       "      <td>39</td>\n",
       "      <td>4.0</td>\n",
       "      <td>0</td>\n",
       "      <td>0.0</td>\n",
       "      <td>0.0</td>\n",
       "      <td>0</td>\n",
       "      <td>0</td>\n",
       "      <td>0</td>\n",
       "      <td>195.0</td>\n",
       "      <td>106.0</td>\n",
       "      <td>70.0</td>\n",
       "      <td>26.97</td>\n",
       "      <td>80.0</td>\n",
       "      <td>77.0</td>\n",
       "      <td>0</td>\n",
       "    </tr>\n",
       "    <tr>\n",
       "      <th>1</th>\n",
       "      <td>0</td>\n",
       "      <td>46</td>\n",
       "      <td>2.0</td>\n",
       "      <td>0</td>\n",
       "      <td>0.0</td>\n",
       "      <td>0.0</td>\n",
       "      <td>0</td>\n",
       "      <td>0</td>\n",
       "      <td>0</td>\n",
       "      <td>250.0</td>\n",
       "      <td>121.0</td>\n",
       "      <td>81.0</td>\n",
       "      <td>28.73</td>\n",
       "      <td>95.0</td>\n",
       "      <td>76.0</td>\n",
       "      <td>0</td>\n",
       "    </tr>\n",
       "    <tr>\n",
       "      <th>2</th>\n",
       "      <td>1</td>\n",
       "      <td>48</td>\n",
       "      <td>1.0</td>\n",
       "      <td>1</td>\n",
       "      <td>20.0</td>\n",
       "      <td>0.0</td>\n",
       "      <td>0</td>\n",
       "      <td>0</td>\n",
       "      <td>0</td>\n",
       "      <td>245.0</td>\n",
       "      <td>127.5</td>\n",
       "      <td>80.0</td>\n",
       "      <td>25.34</td>\n",
       "      <td>75.0</td>\n",
       "      <td>70.0</td>\n",
       "      <td>0</td>\n",
       "    </tr>\n",
       "    <tr>\n",
       "      <th>3</th>\n",
       "      <td>0</td>\n",
       "      <td>61</td>\n",
       "      <td>3.0</td>\n",
       "      <td>1</td>\n",
       "      <td>30.0</td>\n",
       "      <td>0.0</td>\n",
       "      <td>0</td>\n",
       "      <td>1</td>\n",
       "      <td>0</td>\n",
       "      <td>225.0</td>\n",
       "      <td>150.0</td>\n",
       "      <td>95.0</td>\n",
       "      <td>28.58</td>\n",
       "      <td>65.0</td>\n",
       "      <td>103.0</td>\n",
       "      <td>1</td>\n",
       "    </tr>\n",
       "    <tr>\n",
       "      <th>4</th>\n",
       "      <td>0</td>\n",
       "      <td>46</td>\n",
       "      <td>3.0</td>\n",
       "      <td>1</td>\n",
       "      <td>23.0</td>\n",
       "      <td>0.0</td>\n",
       "      <td>0</td>\n",
       "      <td>0</td>\n",
       "      <td>0</td>\n",
       "      <td>285.0</td>\n",
       "      <td>130.0</td>\n",
       "      <td>84.0</td>\n",
       "      <td>23.10</td>\n",
       "      <td>85.0</td>\n",
       "      <td>85.0</td>\n",
       "      <td>0</td>\n",
       "    </tr>\n",
       "    <tr>\n",
       "      <th>5</th>\n",
       "      <td>0</td>\n",
       "      <td>43</td>\n",
       "      <td>2.0</td>\n",
       "      <td>0</td>\n",
       "      <td>0.0</td>\n",
       "      <td>0.0</td>\n",
       "      <td>0</td>\n",
       "      <td>1</td>\n",
       "      <td>0</td>\n",
       "      <td>228.0</td>\n",
       "      <td>180.0</td>\n",
       "      <td>110.0</td>\n",
       "      <td>30.30</td>\n",
       "      <td>77.0</td>\n",
       "      <td>99.0</td>\n",
       "      <td>0</td>\n",
       "    </tr>\n",
       "    <tr>\n",
       "      <th>6</th>\n",
       "      <td>0</td>\n",
       "      <td>63</td>\n",
       "      <td>1.0</td>\n",
       "      <td>0</td>\n",
       "      <td>0.0</td>\n",
       "      <td>0.0</td>\n",
       "      <td>0</td>\n",
       "      <td>0</td>\n",
       "      <td>0</td>\n",
       "      <td>205.0</td>\n",
       "      <td>138.0</td>\n",
       "      <td>71.0</td>\n",
       "      <td>33.11</td>\n",
       "      <td>60.0</td>\n",
       "      <td>85.0</td>\n",
       "      <td>1</td>\n",
       "    </tr>\n",
       "    <tr>\n",
       "      <th>7</th>\n",
       "      <td>0</td>\n",
       "      <td>45</td>\n",
       "      <td>2.0</td>\n",
       "      <td>1</td>\n",
       "      <td>20.0</td>\n",
       "      <td>0.0</td>\n",
       "      <td>0</td>\n",
       "      <td>0</td>\n",
       "      <td>0</td>\n",
       "      <td>313.0</td>\n",
       "      <td>100.0</td>\n",
       "      <td>71.0</td>\n",
       "      <td>21.68</td>\n",
       "      <td>79.0</td>\n",
       "      <td>78.0</td>\n",
       "      <td>0</td>\n",
       "    </tr>\n",
       "    <tr>\n",
       "      <th>8</th>\n",
       "      <td>1</td>\n",
       "      <td>52</td>\n",
       "      <td>1.0</td>\n",
       "      <td>0</td>\n",
       "      <td>0.0</td>\n",
       "      <td>0.0</td>\n",
       "      <td>0</td>\n",
       "      <td>1</td>\n",
       "      <td>0</td>\n",
       "      <td>260.0</td>\n",
       "      <td>141.5</td>\n",
       "      <td>89.0</td>\n",
       "      <td>26.36</td>\n",
       "      <td>76.0</td>\n",
       "      <td>79.0</td>\n",
       "      <td>0</td>\n",
       "    </tr>\n",
       "    <tr>\n",
       "      <th>9</th>\n",
       "      <td>1</td>\n",
       "      <td>43</td>\n",
       "      <td>1.0</td>\n",
       "      <td>1</td>\n",
       "      <td>30.0</td>\n",
       "      <td>0.0</td>\n",
       "      <td>0</td>\n",
       "      <td>1</td>\n",
       "      <td>0</td>\n",
       "      <td>225.0</td>\n",
       "      <td>162.0</td>\n",
       "      <td>107.0</td>\n",
       "      <td>23.61</td>\n",
       "      <td>93.0</td>\n",
       "      <td>88.0</td>\n",
       "      <td>0</td>\n",
       "    </tr>\n",
       "  </tbody>\n",
       "</table>\n",
       "</div>"
      ],
      "text/plain": [
       "   male  age  education  currentSmoker  cigsPerDay  BPMeds  prevalentStroke  \\\n",
       "0     1   39        4.0              0         0.0     0.0                0   \n",
       "1     0   46        2.0              0         0.0     0.0                0   \n",
       "2     1   48        1.0              1        20.0     0.0                0   \n",
       "3     0   61        3.0              1        30.0     0.0                0   \n",
       "4     0   46        3.0              1        23.0     0.0                0   \n",
       "5     0   43        2.0              0         0.0     0.0                0   \n",
       "6     0   63        1.0              0         0.0     0.0                0   \n",
       "7     0   45        2.0              1        20.0     0.0                0   \n",
       "8     1   52        1.0              0         0.0     0.0                0   \n",
       "9     1   43        1.0              1        30.0     0.0                0   \n",
       "\n",
       "   prevalentHyp  diabetes  totChol  sysBP  diaBP    BMI  heartRate  glucose  \\\n",
       "0             0         0    195.0  106.0   70.0  26.97       80.0     77.0   \n",
       "1             0         0    250.0  121.0   81.0  28.73       95.0     76.0   \n",
       "2             0         0    245.0  127.5   80.0  25.34       75.0     70.0   \n",
       "3             1         0    225.0  150.0   95.0  28.58       65.0    103.0   \n",
       "4             0         0    285.0  130.0   84.0  23.10       85.0     85.0   \n",
       "5             1         0    228.0  180.0  110.0  30.30       77.0     99.0   \n",
       "6             0         0    205.0  138.0   71.0  33.11       60.0     85.0   \n",
       "7             0         0    313.0  100.0   71.0  21.68       79.0     78.0   \n",
       "8             1         0    260.0  141.5   89.0  26.36       76.0     79.0   \n",
       "9             1         0    225.0  162.0  107.0  23.61       93.0     88.0   \n",
       "\n",
       "   TenYearCHD  \n",
       "0           0  \n",
       "1           0  \n",
       "2           0  \n",
       "3           1  \n",
       "4           0  \n",
       "5           0  \n",
       "6           1  \n",
       "7           0  \n",
       "8           0  \n",
       "9           0  "
      ]
     },
     "execution_count": 3,
     "metadata": {},
     "output_type": "execute_result"
    }
   ],
   "source": [
    "# display the first 5 rows of the dataframe\n",
    "df.head(10)"
   ]
  },
  {
   "cell_type": "markdown",
   "id": "963a3bc7",
   "metadata": {},
   "source": [
    "Observe if there is any missing data in the imported dataset"
   ]
  },
  {
   "cell_type": "code",
   "execution_count": 4,
   "id": "7fb3a708",
   "metadata": {},
   "outputs": [
    {
     "name": "stdout",
     "output_type": "stream",
     "text": [
      "                 Total_non_missing  missing_count  missing_percentage\n",
      "male                          3811              0            0.000000\n",
      "age                           3811              0            0.000000\n",
      "education                     3715             96            2.519024\n",
      "currentSmoker                 3811              0            0.000000\n",
      "cigsPerDay                    3785             26            0.682236\n",
      "BPMeds                        3763             48            1.259512\n",
      "prevalentStroke               3811              0            0.000000\n",
      "prevalentHyp                  3811              0            0.000000\n",
      "diabetes                      3811              0            0.000000\n",
      "totChol                       3765             46            1.207032\n",
      "sysBP                         3811              0            0.000000\n",
      "diaBP                         3811              0            0.000000\n",
      "BMI                           3792             19            0.498557\n",
      "heartRate                     3810              1            0.026240\n",
      "glucose                       3454            357            9.367620\n",
      "TenYearCHD                    3811              0            0.000000\n"
     ]
    }
   ],
   "source": [
    "\n",
    "def missing_summary(df):\n",
    "    # count the values in a column ignoring na i.e. not available values\n",
    "    # count the number of missing values in a dataframe\n",
    "    missing_summary = pd.DataFrame({'Total_non_missing':df.count(axis=0), 'missing_count': df.isna().sum(), \n",
    "                                    'missing_percentage': (df.isna().sum()/df.shape[0]*100) })\n",
    "    print(missing_summary)\n",
    "\n",
    "missing_summary(df)"
   ]
  },
  {
   "cell_type": "markdown",
   "id": "6128fd74",
   "metadata": {},
   "source": [
    "From the output of the last cell, we can see that total number of rows or patient data is 3811 and out of that education, cigsPerDay, BPMeds, totChol, BMI, heartRate, glucose columns have missing values. Hence, we have to decide whether to remove these rows with missing values or replace them with some other suitable value."
   ]
  },
  {
   "cell_type": "code",
   "execution_count": 5,
   "id": "23a789f4",
   "metadata": {},
   "outputs": [
    {
     "data": {
      "text/plain": [
       "0.15087903437418002"
      ]
     },
     "execution_count": 5,
     "metadata": {},
     "output_type": "execute_result"
    }
   ],
   "source": [
    "# Check if the dataset is imbalanced or not\n",
    "df['TenYearCHD'].sum() / df['TenYearCHD'].count()"
   ]
  },
  {
   "cell_type": "markdown",
   "id": "7a1515d4",
   "metadata": {},
   "source": [
    "Let's first visualize the correlation between the features or columns."
   ]
  },
  {
   "cell_type": "code",
   "execution_count": 6,
   "id": "12b5887b",
   "metadata": {},
   "outputs": [
    {
     "data": {
      "text/html": [
       "<div>\n",
       "<style scoped>\n",
       "    .dataframe tbody tr th:only-of-type {\n",
       "        vertical-align: middle;\n",
       "    }\n",
       "\n",
       "    .dataframe tbody tr th {\n",
       "        vertical-align: top;\n",
       "    }\n",
       "\n",
       "    .dataframe thead th {\n",
       "        text-align: right;\n",
       "    }\n",
       "</style>\n",
       "<table border=\"1\" class=\"dataframe\">\n",
       "  <thead>\n",
       "    <tr style=\"text-align: right;\">\n",
       "      <th></th>\n",
       "      <th>male</th>\n",
       "      <th>age</th>\n",
       "      <th>education</th>\n",
       "      <th>currentSmoker</th>\n",
       "      <th>cigsPerDay</th>\n",
       "      <th>BPMeds</th>\n",
       "      <th>prevalentStroke</th>\n",
       "      <th>prevalentHyp</th>\n",
       "      <th>diabetes</th>\n",
       "      <th>totChol</th>\n",
       "      <th>sysBP</th>\n",
       "      <th>diaBP</th>\n",
       "      <th>BMI</th>\n",
       "      <th>heartRate</th>\n",
       "      <th>glucose</th>\n",
       "      <th>TenYearCHD</th>\n",
       "    </tr>\n",
       "  </thead>\n",
       "  <tbody>\n",
       "    <tr>\n",
       "      <th>male</th>\n",
       "      <td>1.000000</td>\n",
       "      <td>-0.035955</td>\n",
       "      <td>0.016031</td>\n",
       "      <td>0.194111</td>\n",
       "      <td>0.316957</td>\n",
       "      <td>-0.049542</td>\n",
       "      <td>0.004582</td>\n",
       "      <td>0.009341</td>\n",
       "      <td>0.017003</td>\n",
       "      <td>-0.074680</td>\n",
       "      <td>-0.035442</td>\n",
       "      <td>0.062985</td>\n",
       "      <td>0.095618</td>\n",
       "      <td>-0.120474</td>\n",
       "      <td>0.011820</td>\n",
       "      <td>0.084129</td>\n",
       "    </tr>\n",
       "    <tr>\n",
       "      <th>age</th>\n",
       "      <td>-0.035955</td>\n",
       "      <td>1.000000</td>\n",
       "      <td>-0.165067</td>\n",
       "      <td>-0.213213</td>\n",
       "      <td>-0.192247</td>\n",
       "      <td>0.110677</td>\n",
       "      <td>0.058171</td>\n",
       "      <td>0.299387</td>\n",
       "      <td>0.095987</td>\n",
       "      <td>0.253143</td>\n",
       "      <td>0.389532</td>\n",
       "      <td>0.200813</td>\n",
       "      <td>0.130109</td>\n",
       "      <td>-0.015174</td>\n",
       "      <td>0.121913</td>\n",
       "      <td>0.218817</td>\n",
       "    </tr>\n",
       "    <tr>\n",
       "      <th>education</th>\n",
       "      <td>0.016031</td>\n",
       "      <td>-0.165067</td>\n",
       "      <td>1.000000</td>\n",
       "      <td>0.013717</td>\n",
       "      <td>0.001560</td>\n",
       "      <td>-0.005717</td>\n",
       "      <td>-0.032586</td>\n",
       "      <td>-0.079163</td>\n",
       "      <td>-0.030564</td>\n",
       "      <td>-0.010388</td>\n",
       "      <td>-0.132398</td>\n",
       "      <td>-0.064224</td>\n",
       "      <td>-0.130706</td>\n",
       "      <td>-0.054072</td>\n",
       "      <td>-0.034818</td>\n",
       "      <td>-0.054787</td>\n",
       "    </tr>\n",
       "    <tr>\n",
       "      <th>currentSmoker</th>\n",
       "      <td>0.194111</td>\n",
       "      <td>-0.213213</td>\n",
       "      <td>0.013717</td>\n",
       "      <td>1.000000</td>\n",
       "      <td>0.767087</td>\n",
       "      <td>-0.052060</td>\n",
       "      <td>-0.034416</td>\n",
       "      <td>-0.095141</td>\n",
       "      <td>-0.040576</td>\n",
       "      <td>-0.047742</td>\n",
       "      <td>-0.123277</td>\n",
       "      <td>-0.101521</td>\n",
       "      <td>-0.160534</td>\n",
       "      <td>0.066863</td>\n",
       "      <td>-0.055146</td>\n",
       "      <td>0.021010</td>\n",
       "    </tr>\n",
       "    <tr>\n",
       "      <th>cigsPerDay</th>\n",
       "      <td>0.316957</td>\n",
       "      <td>-0.192247</td>\n",
       "      <td>0.001560</td>\n",
       "      <td>0.767087</td>\n",
       "      <td>1.000000</td>\n",
       "      <td>-0.042276</td>\n",
       "      <td>-0.030465</td>\n",
       "      <td>-0.055856</td>\n",
       "      <td>-0.032009</td>\n",
       "      <td>-0.027182</td>\n",
       "      <td>-0.080235</td>\n",
       "      <td>-0.048916</td>\n",
       "      <td>-0.078866</td>\n",
       "      <td>0.075164</td>\n",
       "      <td>-0.057391</td>\n",
       "      <td>0.060444</td>\n",
       "    </tr>\n",
       "    <tr>\n",
       "      <th>BPMeds</th>\n",
       "      <td>-0.049542</td>\n",
       "      <td>0.110677</td>\n",
       "      <td>-0.005717</td>\n",
       "      <td>-0.052060</td>\n",
       "      <td>-0.042276</td>\n",
       "      <td>1.000000</td>\n",
       "      <td>0.093413</td>\n",
       "      <td>0.259047</td>\n",
       "      <td>0.045559</td>\n",
       "      <td>0.067369</td>\n",
       "      <td>0.244599</td>\n",
       "      <td>0.187192</td>\n",
       "      <td>0.088942</td>\n",
       "      <td>0.005079</td>\n",
       "      <td>0.027748</td>\n",
       "      <td>0.082846</td>\n",
       "    </tr>\n",
       "    <tr>\n",
       "      <th>prevalentStroke</th>\n",
       "      <td>0.004582</td>\n",
       "      <td>0.058171</td>\n",
       "      <td>-0.032586</td>\n",
       "      <td>-0.034416</td>\n",
       "      <td>-0.030465</td>\n",
       "      <td>0.093413</td>\n",
       "      <td>1.000000</td>\n",
       "      <td>0.068892</td>\n",
       "      <td>0.010581</td>\n",
       "      <td>-0.001028</td>\n",
       "      <td>0.050079</td>\n",
       "      <td>0.035070</td>\n",
       "      <td>-0.007501</td>\n",
       "      <td>-0.019843</td>\n",
       "      <td>0.021416</td>\n",
       "      <td>0.064647</td>\n",
       "    </tr>\n",
       "    <tr>\n",
       "      <th>prevalentHyp</th>\n",
       "      <td>0.009341</td>\n",
       "      <td>0.299387</td>\n",
       "      <td>-0.079163</td>\n",
       "      <td>-0.095141</td>\n",
       "      <td>-0.055856</td>\n",
       "      <td>0.259047</td>\n",
       "      <td>0.068892</td>\n",
       "      <td>1.000000</td>\n",
       "      <td>0.061167</td>\n",
       "      <td>0.154709</td>\n",
       "      <td>0.694848</td>\n",
       "      <td>0.613725</td>\n",
       "      <td>0.291375</td>\n",
       "      <td>0.146511</td>\n",
       "      <td>0.069038</td>\n",
       "      <td>0.182569</td>\n",
       "    </tr>\n",
       "    <tr>\n",
       "      <th>diabetes</th>\n",
       "      <td>0.017003</td>\n",
       "      <td>0.095987</td>\n",
       "      <td>-0.030564</td>\n",
       "      <td>-0.040576</td>\n",
       "      <td>-0.032009</td>\n",
       "      <td>0.045559</td>\n",
       "      <td>0.010581</td>\n",
       "      <td>0.061167</td>\n",
       "      <td>1.000000</td>\n",
       "      <td>0.032183</td>\n",
       "      <td>0.096804</td>\n",
       "      <td>0.039565</td>\n",
       "      <td>0.072988</td>\n",
       "      <td>0.043050</td>\n",
       "      <td>0.583256</td>\n",
       "      <td>0.096095</td>\n",
       "    </tr>\n",
       "    <tr>\n",
       "      <th>totChol</th>\n",
       "      <td>-0.074680</td>\n",
       "      <td>0.253143</td>\n",
       "      <td>-0.010388</td>\n",
       "      <td>-0.047742</td>\n",
       "      <td>-0.027182</td>\n",
       "      <td>0.067369</td>\n",
       "      <td>-0.001028</td>\n",
       "      <td>0.154709</td>\n",
       "      <td>0.032183</td>\n",
       "      <td>1.000000</td>\n",
       "      <td>0.199153</td>\n",
       "      <td>0.157664</td>\n",
       "      <td>0.103881</td>\n",
       "      <td>0.096274</td>\n",
       "      <td>0.035780</td>\n",
       "      <td>0.076577</td>\n",
       "    </tr>\n",
       "    <tr>\n",
       "      <th>sysBP</th>\n",
       "      <td>-0.035442</td>\n",
       "      <td>0.389532</td>\n",
       "      <td>-0.132398</td>\n",
       "      <td>-0.123277</td>\n",
       "      <td>-0.080235</td>\n",
       "      <td>0.244599</td>\n",
       "      <td>0.050079</td>\n",
       "      <td>0.694848</td>\n",
       "      <td>0.096804</td>\n",
       "      <td>0.199153</td>\n",
       "      <td>1.000000</td>\n",
       "      <td>0.779857</td>\n",
       "      <td>0.318314</td>\n",
       "      <td>0.178619</td>\n",
       "      <td>0.121951</td>\n",
       "      <td>0.219525</td>\n",
       "    </tr>\n",
       "    <tr>\n",
       "      <th>diaBP</th>\n",
       "      <td>0.062985</td>\n",
       "      <td>0.200813</td>\n",
       "      <td>-0.064224</td>\n",
       "      <td>-0.101521</td>\n",
       "      <td>-0.048916</td>\n",
       "      <td>0.187192</td>\n",
       "      <td>0.035070</td>\n",
       "      <td>0.613725</td>\n",
       "      <td>0.039565</td>\n",
       "      <td>0.157664</td>\n",
       "      <td>0.779857</td>\n",
       "      <td>1.000000</td>\n",
       "      <td>0.371889</td>\n",
       "      <td>0.174700</td>\n",
       "      <td>0.046207</td>\n",
       "      <td>0.145256</td>\n",
       "    </tr>\n",
       "    <tr>\n",
       "      <th>BMI</th>\n",
       "      <td>0.095618</td>\n",
       "      <td>0.130109</td>\n",
       "      <td>-0.130706</td>\n",
       "      <td>-0.160534</td>\n",
       "      <td>-0.078866</td>\n",
       "      <td>0.088942</td>\n",
       "      <td>-0.007501</td>\n",
       "      <td>0.291375</td>\n",
       "      <td>0.072988</td>\n",
       "      <td>0.103881</td>\n",
       "      <td>0.318314</td>\n",
       "      <td>0.371889</td>\n",
       "      <td>1.000000</td>\n",
       "      <td>0.068027</td>\n",
       "      <td>0.072417</td>\n",
       "      <td>0.084676</td>\n",
       "    </tr>\n",
       "    <tr>\n",
       "      <th>heartRate</th>\n",
       "      <td>-0.120474</td>\n",
       "      <td>-0.015174</td>\n",
       "      <td>-0.054072</td>\n",
       "      <td>0.066863</td>\n",
       "      <td>0.075164</td>\n",
       "      <td>0.005079</td>\n",
       "      <td>-0.019843</td>\n",
       "      <td>0.146511</td>\n",
       "      <td>0.043050</td>\n",
       "      <td>0.096274</td>\n",
       "      <td>0.178619</td>\n",
       "      <td>0.174700</td>\n",
       "      <td>0.068027</td>\n",
       "      <td>1.000000</td>\n",
       "      <td>0.081974</td>\n",
       "      <td>0.021424</td>\n",
       "    </tr>\n",
       "    <tr>\n",
       "      <th>glucose</th>\n",
       "      <td>0.011820</td>\n",
       "      <td>0.121913</td>\n",
       "      <td>-0.034818</td>\n",
       "      <td>-0.055146</td>\n",
       "      <td>-0.057391</td>\n",
       "      <td>0.027748</td>\n",
       "      <td>0.021416</td>\n",
       "      <td>0.069038</td>\n",
       "      <td>0.583256</td>\n",
       "      <td>0.035780</td>\n",
       "      <td>0.121951</td>\n",
       "      <td>0.046207</td>\n",
       "      <td>0.072417</td>\n",
       "      <td>0.081974</td>\n",
       "      <td>1.000000</td>\n",
       "      <td>0.128340</td>\n",
       "    </tr>\n",
       "    <tr>\n",
       "      <th>TenYearCHD</th>\n",
       "      <td>0.084129</td>\n",
       "      <td>0.218817</td>\n",
       "      <td>-0.054787</td>\n",
       "      <td>0.021010</td>\n",
       "      <td>0.060444</td>\n",
       "      <td>0.082846</td>\n",
       "      <td>0.064647</td>\n",
       "      <td>0.182569</td>\n",
       "      <td>0.096095</td>\n",
       "      <td>0.076577</td>\n",
       "      <td>0.219525</td>\n",
       "      <td>0.145256</td>\n",
       "      <td>0.084676</td>\n",
       "      <td>0.021424</td>\n",
       "      <td>0.128340</td>\n",
       "      <td>1.000000</td>\n",
       "    </tr>\n",
       "  </tbody>\n",
       "</table>\n",
       "</div>"
      ],
      "text/plain": [
       "                     male       age  education  currentSmoker  cigsPerDay  \\\n",
       "male             1.000000 -0.035955   0.016031       0.194111    0.316957   \n",
       "age             -0.035955  1.000000  -0.165067      -0.213213   -0.192247   \n",
       "education        0.016031 -0.165067   1.000000       0.013717    0.001560   \n",
       "currentSmoker    0.194111 -0.213213   0.013717       1.000000    0.767087   \n",
       "cigsPerDay       0.316957 -0.192247   0.001560       0.767087    1.000000   \n",
       "BPMeds          -0.049542  0.110677  -0.005717      -0.052060   -0.042276   \n",
       "prevalentStroke  0.004582  0.058171  -0.032586      -0.034416   -0.030465   \n",
       "prevalentHyp     0.009341  0.299387  -0.079163      -0.095141   -0.055856   \n",
       "diabetes         0.017003  0.095987  -0.030564      -0.040576   -0.032009   \n",
       "totChol         -0.074680  0.253143  -0.010388      -0.047742   -0.027182   \n",
       "sysBP           -0.035442  0.389532  -0.132398      -0.123277   -0.080235   \n",
       "diaBP            0.062985  0.200813  -0.064224      -0.101521   -0.048916   \n",
       "BMI              0.095618  0.130109  -0.130706      -0.160534   -0.078866   \n",
       "heartRate       -0.120474 -0.015174  -0.054072       0.066863    0.075164   \n",
       "glucose          0.011820  0.121913  -0.034818      -0.055146   -0.057391   \n",
       "TenYearCHD       0.084129  0.218817  -0.054787       0.021010    0.060444   \n",
       "\n",
       "                   BPMeds  prevalentStroke  prevalentHyp  diabetes   totChol  \\\n",
       "male            -0.049542         0.004582      0.009341  0.017003 -0.074680   \n",
       "age              0.110677         0.058171      0.299387  0.095987  0.253143   \n",
       "education       -0.005717        -0.032586     -0.079163 -0.030564 -0.010388   \n",
       "currentSmoker   -0.052060        -0.034416     -0.095141 -0.040576 -0.047742   \n",
       "cigsPerDay      -0.042276        -0.030465     -0.055856 -0.032009 -0.027182   \n",
       "BPMeds           1.000000         0.093413      0.259047  0.045559  0.067369   \n",
       "prevalentStroke  0.093413         1.000000      0.068892  0.010581 -0.001028   \n",
       "prevalentHyp     0.259047         0.068892      1.000000  0.061167  0.154709   \n",
       "diabetes         0.045559         0.010581      0.061167  1.000000  0.032183   \n",
       "totChol          0.067369        -0.001028      0.154709  0.032183  1.000000   \n",
       "sysBP            0.244599         0.050079      0.694848  0.096804  0.199153   \n",
       "diaBP            0.187192         0.035070      0.613725  0.039565  0.157664   \n",
       "BMI              0.088942        -0.007501      0.291375  0.072988  0.103881   \n",
       "heartRate        0.005079        -0.019843      0.146511  0.043050  0.096274   \n",
       "glucose          0.027748         0.021416      0.069038  0.583256  0.035780   \n",
       "TenYearCHD       0.082846         0.064647      0.182569  0.096095  0.076577   \n",
       "\n",
       "                    sysBP     diaBP       BMI  heartRate   glucose  TenYearCHD  \n",
       "male            -0.035442  0.062985  0.095618  -0.120474  0.011820    0.084129  \n",
       "age              0.389532  0.200813  0.130109  -0.015174  0.121913    0.218817  \n",
       "education       -0.132398 -0.064224 -0.130706  -0.054072 -0.034818   -0.054787  \n",
       "currentSmoker   -0.123277 -0.101521 -0.160534   0.066863 -0.055146    0.021010  \n",
       "cigsPerDay      -0.080235 -0.048916 -0.078866   0.075164 -0.057391    0.060444  \n",
       "BPMeds           0.244599  0.187192  0.088942   0.005079  0.027748    0.082846  \n",
       "prevalentStroke  0.050079  0.035070 -0.007501  -0.019843  0.021416    0.064647  \n",
       "prevalentHyp     0.694848  0.613725  0.291375   0.146511  0.069038    0.182569  \n",
       "diabetes         0.096804  0.039565  0.072988   0.043050  0.583256    0.096095  \n",
       "totChol          0.199153  0.157664  0.103881   0.096274  0.035780    0.076577  \n",
       "sysBP            1.000000  0.779857  0.318314   0.178619  0.121951    0.219525  \n",
       "diaBP            0.779857  1.000000  0.371889   0.174700  0.046207    0.145256  \n",
       "BMI              0.318314  0.371889  1.000000   0.068027  0.072417    0.084676  \n",
       "heartRate        0.178619  0.174700  0.068027   1.000000  0.081974    0.021424  \n",
       "glucose          0.121951  0.046207  0.072417   0.081974  1.000000    0.128340  \n",
       "TenYearCHD       0.219525  0.145256  0.084676   0.021424  0.128340    1.000000  "
      ]
     },
     "execution_count": 6,
     "metadata": {},
     "output_type": "execute_result"
    }
   ],
   "source": [
    "df.corr()"
   ]
  },
  {
   "cell_type": "code",
   "execution_count": 7,
   "id": "cf47b111",
   "metadata": {},
   "outputs": [
    {
     "data": {
      "image/png": "[encoded data removed]",
      "text/plain": [
       "<Figure size 640x480 with 2 Axes>"
      ]
     },
     "metadata": {},
     "output_type": "display_data"
    }
   ],
   "source": [
    "import seaborn as sns\n",
    "ac = sns.heatmap(df.corr())"
   ]
  },
  {
   "cell_type": "markdown",
   "id": "84e1efe7",
   "metadata": {},
   "source": [
    "Observations from correlation matrix:\n",
    "- It can be seen that education has least correlation with TenYearCHD.\n",
    "- cigsPerDay is highly correlated with currentSmoker, 0.77. As cigsPerDay is only applicable for a smoker, currentSomker is redunant and can be removed.\n",
    "- sysBP is highly correlated with diaBP, 0.78. Out of two sysBP has higher correlation with TenYearCHD. diaBP can be removed.\n",
    "- education has negative correlation with TenYearCHD"
   ]
  },
  {
   "cell_type": "code",
   "execution_count": 8,
   "id": "bce3d55a",
   "metadata": {},
   "outputs": [],
   "source": [
    "#remove correlated features in logistic regression\n",
    "df = df.drop(['currentSmoker','diaBP'], axis=1)"
   ]
  },
  {
   "cell_type": "markdown",
   "id": "ede70b09",
   "metadata": {},
   "source": [
    "First defining a function that takes the name of the feature as string and generates the plots and provide descriptive statistics for that feature."
   ]
  },
  {
   "cell_type": "code",
   "execution_count": 9,
   "id": "3f46fcf9",
   "metadata": {},
   "outputs": [],
   "source": [
    "# a function to generate a basic plots of the feature    \n",
    "def basic_plots(feature, feature2 = \"age\"):\n",
    "\n",
    "    fig = plt.figure(figsize=(6,2))\n",
    "    ax1 = fig.add_subplot(1,3,1)\n",
    "    # kernel density plot: creates a probality density function in non-parametric way directly from the data\n",
    "    df[feature].plot(kind = 'kde')\n",
    "    ax2 = fig.add_subplot(1,3,2)\n",
    "    # histogram plot: creates a histogram of the feature\n",
    "    df[feature].plot(kind = 'hist')\n",
    "    ax3 = fig.add_subplot(1,3,3,title ='plot wrt ' + feature2,  xlabel = feature2 , ylabel = feature)\n",
    "    # scatter plot: creates a scatter plot of the feature with age\n",
    "    ax3.scatter(df[feature2],df[feature])\n",
    "    fig.tight_layout()\n",
    "    plt.show()\n",
    "    # Prilimanary statistics of the feature\n",
    "    print(df[feature].describe())\n",
    "    mode = df[feature].mode()[0]\n",
    "    print('Mode        {}'.format(mode))\n",
    "\n"
   ]
  },
  {
   "cell_type": "markdown",
   "id": "256016fd",
   "metadata": {},
   "source": [
    "Let's visualise some basic plots of the features with missing values. Based on which we can decide how to deal with the missing values in a suitable way creating a balance between removing samples and modifying data."
   ]
  },
  {
   "cell_type": "code",
   "execution_count": 10,
   "id": "7245482e",
   "metadata": {},
   "outputs": [],
   "source": [
    "# First of all, as only single row has missing heart rate, we can drop it\n",
    "df = df[df['heartRate'].notnull()]"
   ]
  },
  {
   "cell_type": "code",
   "execution_count": 11,
   "id": "8a45cb12",
   "metadata": {},
   "outputs": [
    {
     "data": {
      "image/png": "[encoded data removed]",
      "text/plain": [
       "<Figure size 600x200 with 3 Axes>"
      ]
     },
     "metadata": {},
     "output_type": "display_data"
    },
    {
     "name": "stdout",
     "output_type": "stream",
     "text": [
      "count    3714.000000\n",
      "mean        1.975498\n",
      "std         1.018119\n",
      "min         1.000000\n",
      "25%         1.000000\n",
      "50%         2.000000\n",
      "75%         3.000000\n",
      "max         4.000000\n",
      "Name: education, dtype: float64\n",
      "Mode        1.0\n"
     ]
    }
   ],
   "source": [
    "\n",
    "basic_plots('education')\n"
   ]
  },
  {
   "cell_type": "code",
   "execution_count": 12,
   "id": "26e2a47c",
   "metadata": {},
   "outputs": [],
   "source": [
    "# Knowing that education has negative correlation with TenYearCHD and\n",
    "# is possibly a feature that will acts as noise in this problem where other health realted features are more important\n",
    "# removing the education feature from the dataset\n",
    "df = df.drop('education', axis = 1)"
   ]
  },
  {
   "cell_type": "code",
   "execution_count": 13,
   "id": "8f06dc94",
   "metadata": {},
   "outputs": [
    {
     "data": {
      "image/png": "[encoded data removed]",
      "text/plain": [
       "<Figure size 600x200 with 3 Axes>"
      ]
     },
     "metadata": {},
     "output_type": "display_data"
    },
    {
     "name": "stdout",
     "output_type": "stream",
     "text": [
      "count    3784.000000\n",
      "mean        8.983615\n",
      "std        11.831746\n",
      "min         0.000000\n",
      "25%         0.000000\n",
      "50%         0.000000\n",
      "75%        20.000000\n",
      "max        70.000000\n",
      "Name: cigsPerDay, dtype: float64\n",
      "Mode        0.0\n"
     ]
    }
   ],
   "source": [
    "basic_plots('cigsPerDay')"
   ]
  },
  {
   "cell_type": "code",
   "execution_count": 14,
   "id": "6204fd91",
   "metadata": {},
   "outputs": [],
   "source": [
    "# the numbers of rows with missing values are less\n",
    "# cigsPerDay is totally random and cannot be estimated\n",
    "# hence removing the rows with missing cigsPerDay values\n",
    "df = df[df['cigsPerDay'].notnull()]"
   ]
  },
  {
   "cell_type": "code",
   "execution_count": 15,
   "id": "c63b2040",
   "metadata": {},
   "outputs": [
    {
     "data": {
      "image/png": "[encoded data removed]",
      "text/plain": [
       "<Figure size 600x200 with 3 Axes>"
      ]
     },
     "metadata": {},
     "output_type": "display_data"
    },
    {
     "name": "stdout",
     "output_type": "stream",
     "text": [
      "count    3736.000000\n",
      "mean        0.029176\n",
      "std         0.168321\n",
      "min         0.000000\n",
      "25%         0.000000\n",
      "50%         0.000000\n",
      "75%         0.000000\n",
      "max         1.000000\n",
      "Name: BPMeds, dtype: float64\n",
      "Mode        0.0\n"
     ]
    }
   ],
   "source": [
    "# since BpMeds is correlated with prevalentHyp, we plot scatter of prevalentHyp vs BPMeds\n",
    "basic_plots('BPMeds', feature2 = 'prevalentHyp')"
   ]
  },
  {
   "cell_type": "code",
   "execution_count": 16,
   "id": "88b95c36",
   "metadata": {},
   "outputs": [
    {
     "name": "stdout",
     "output_type": "stream",
     "text": [
      "total rows with missing BPMeds: 48\n",
      "out of which with prevalentHyp=1: 21\n"
     ]
    }
   ],
   "source": [
    "# as it can be seen when prevalenthyp is 0 there are no BPMeds and also logically when there is no prevalent hyp, a person wont take any BPMeds\n",
    "#  we can use this information to fill where prevalent hyp is 0\n",
    "print(f\"total rows with missing BPMeds: {df[df['BPMeds'].isna()].count()[0]}\")\n",
    "print(f\"out of which with prevalentHyp=1: {df[df['BPMeds'].isna()]['prevalentHyp'].sum()}\")"
   ]
  },
  {
   "cell_type": "code",
   "execution_count": 17,
   "id": "433670d1",
   "metadata": {},
   "outputs": [],
   "source": [
    "# now replacing the NaNs with 0 where prevalentHyp is 0\n",
    "df.loc[(df.BPMeds.isna()) & (df.prevalentHyp == 0), 'BPMeds'] = 0\n",
    "\n"
   ]
  },
  {
   "cell_type": "code",
   "execution_count": 18,
   "id": "71d70db1",
   "metadata": {},
   "outputs": [
    {
     "data": {
      "text/plain": [
       "male                 0\n",
       "age                  0\n",
       "cigsPerDay           0\n",
       "BPMeds              21\n",
       "prevalentStroke      0\n",
       "prevalentHyp         0\n",
       "diabetes             0\n",
       "totChol             46\n",
       "sysBP                0\n",
       "BMI                 19\n",
       "heartRate            0\n",
       "glucose            353\n",
       "TenYearCHD           0\n",
       "dtype: int64"
      ]
     },
     "execution_count": 18,
     "metadata": {},
     "output_type": "execute_result"
    }
   ],
   "source": [
    "# count the number of missing values in a dataframe\n",
    "df.isna().sum()"
   ]
  },
  {
   "cell_type": "code",
   "execution_count": 19,
   "id": "729c5c8a",
   "metadata": {},
   "outputs": [],
   "source": [
    "# now removing the remaining empty BPMeds rows\n",
    "df = df[df['BPMeds'].notnull()]"
   ]
  },
  {
   "cell_type": "code",
   "execution_count": 20,
   "id": "8d57357f",
   "metadata": {},
   "outputs": [],
   "source": [
    "# removing rows with total cholesterol missing values\n",
    "df = df[df['totChol'].notnull()]"
   ]
  },
  {
   "cell_type": "code",
   "execution_count": 21,
   "id": "24c4f29a",
   "metadata": {},
   "outputs": [],
   "source": [
    "# removing rows where BMI is null\n",
    "df = df[df['BMI'].notnull()]"
   ]
  },
  {
   "cell_type": "code",
   "execution_count": 22,
   "id": "ce0658e3",
   "metadata": {},
   "outputs": [
    {
     "data": {
      "image/png": "[encoded data removed]",
      "text/plain": [
       "<Figure size 600x200 with 3 Axes>"
      ]
     },
     "metadata": {},
     "output_type": "display_data"
    },
    {
     "name": "stdout",
     "output_type": "stream",
     "text": [
      "count    3387.000000\n",
      "mean       81.554178\n",
      "std        21.878381\n",
      "min        40.000000\n",
      "25%        71.000000\n",
      "50%        78.000000\n",
      "75%        87.000000\n",
      "max       394.000000\n",
      "Name: glucose, dtype: float64\n",
      "Mode        75.0\n"
     ]
    }
   ],
   "source": [
    "basic_plots('glucose', feature2 = \"diabetes\")"
   ]
  },
  {
   "cell_type": "markdown",
   "id": "11bef803",
   "metadata": {},
   "source": [
    "It can be seen that glucose value ranges from 40 to 394 with most values near 100. Also, there is somewhat correlation between glucose and diabetes but only for higher glucose values. The missing glucose values cannot be assumed or replaced by some value because it will be biased towards available data.\n",
    "As the number of rows with missing glucose values is large, they cannot be removed. One way is to remove the glucose feature from the dataset, as diabetes can act as information about the higher or lower glucose levels."
   ]
  },
  {
   "cell_type": "code",
   "execution_count": 23,
   "id": "1ac013c7",
   "metadata": {},
   "outputs": [],
   "source": [
    "# removing glucose feature\n",
    "df = df.drop(['glucose'], axis=1)"
   ]
  },
  {
   "cell_type": "code",
   "execution_count": 24,
   "id": "5b731d7f",
   "metadata": {},
   "outputs": [
    {
     "data": {
      "text/html": [
       "<div>\n",
       "<style scoped>\n",
       "    .dataframe tbody tr th:only-of-type {\n",
       "        vertical-align: middle;\n",
       "    }\n",
       "\n",
       "    .dataframe tbody tr th {\n",
       "        vertical-align: top;\n",
       "    }\n",
       "\n",
       "    .dataframe thead th {\n",
       "        text-align: right;\n",
       "    }\n",
       "</style>\n",
       "<table border=\"1\" class=\"dataframe\">\n",
       "  <thead>\n",
       "    <tr style=\"text-align: right;\">\n",
       "      <th></th>\n",
       "      <th>male</th>\n",
       "      <th>age</th>\n",
       "      <th>cigsPerDay</th>\n",
       "      <th>BPMeds</th>\n",
       "      <th>prevalentStroke</th>\n",
       "      <th>prevalentHyp</th>\n",
       "      <th>diabetes</th>\n",
       "      <th>totChol</th>\n",
       "      <th>sysBP</th>\n",
       "      <th>BMI</th>\n",
       "      <th>heartRate</th>\n",
       "      <th>TenYearCHD</th>\n",
       "    </tr>\n",
       "  </thead>\n",
       "  <tbody>\n",
       "    <tr>\n",
       "      <th>0</th>\n",
       "      <td>1</td>\n",
       "      <td>39</td>\n",
       "      <td>0.0</td>\n",
       "      <td>0.0</td>\n",
       "      <td>0</td>\n",
       "      <td>0</td>\n",
       "      <td>0</td>\n",
       "      <td>195.0</td>\n",
       "      <td>106.0</td>\n",
       "      <td>26.97</td>\n",
       "      <td>80.0</td>\n",
       "      <td>0</td>\n",
       "    </tr>\n",
       "    <tr>\n",
       "      <th>1</th>\n",
       "      <td>0</td>\n",
       "      <td>46</td>\n",
       "      <td>0.0</td>\n",
       "      <td>0.0</td>\n",
       "      <td>0</td>\n",
       "      <td>0</td>\n",
       "      <td>0</td>\n",
       "      <td>250.0</td>\n",
       "      <td>121.0</td>\n",
       "      <td>28.73</td>\n",
       "      <td>95.0</td>\n",
       "      <td>0</td>\n",
       "    </tr>\n",
       "    <tr>\n",
       "      <th>2</th>\n",
       "      <td>1</td>\n",
       "      <td>48</td>\n",
       "      <td>20.0</td>\n",
       "      <td>0.0</td>\n",
       "      <td>0</td>\n",
       "      <td>0</td>\n",
       "      <td>0</td>\n",
       "      <td>245.0</td>\n",
       "      <td>127.5</td>\n",
       "      <td>25.34</td>\n",
       "      <td>75.0</td>\n",
       "      <td>0</td>\n",
       "    </tr>\n",
       "    <tr>\n",
       "      <th>3</th>\n",
       "      <td>0</td>\n",
       "      <td>61</td>\n",
       "      <td>30.0</td>\n",
       "      <td>0.0</td>\n",
       "      <td>0</td>\n",
       "      <td>1</td>\n",
       "      <td>0</td>\n",
       "      <td>225.0</td>\n",
       "      <td>150.0</td>\n",
       "      <td>28.58</td>\n",
       "      <td>65.0</td>\n",
       "      <td>1</td>\n",
       "    </tr>\n",
       "    <tr>\n",
       "      <th>4</th>\n",
       "      <td>0</td>\n",
       "      <td>46</td>\n",
       "      <td>23.0</td>\n",
       "      <td>0.0</td>\n",
       "      <td>0</td>\n",
       "      <td>0</td>\n",
       "      <td>0</td>\n",
       "      <td>285.0</td>\n",
       "      <td>130.0</td>\n",
       "      <td>23.10</td>\n",
       "      <td>85.0</td>\n",
       "      <td>0</td>\n",
       "    </tr>\n",
       "  </tbody>\n",
       "</table>\n",
       "</div>"
      ],
      "text/plain": [
       "   male  age  cigsPerDay  BPMeds  prevalentStroke  prevalentHyp  diabetes  \\\n",
       "0     1   39         0.0     0.0                0             0         0   \n",
       "1     0   46         0.0     0.0                0             0         0   \n",
       "2     1   48        20.0     0.0                0             0         0   \n",
       "3     0   61        30.0     0.0                0             1         0   \n",
       "4     0   46        23.0     0.0                0             0         0   \n",
       "\n",
       "   totChol  sysBP    BMI  heartRate  TenYearCHD  \n",
       "0    195.0  106.0  26.97       80.0           0  \n",
       "1    250.0  121.0  28.73       95.0           0  \n",
       "2    245.0  127.5  25.34       75.0           0  \n",
       "3    225.0  150.0  28.58       65.0           1  \n",
       "4    285.0  130.0  23.10       85.0           0  "
      ]
     },
     "execution_count": 24,
     "metadata": {},
     "output_type": "execute_result"
    }
   ],
   "source": [
    "df.head()"
   ]
  },
  {
   "cell_type": "code",
   "execution_count": 25,
   "id": "bb1dbf27",
   "metadata": {},
   "outputs": [
    {
     "data": {
      "text/plain": [
       "male               0\n",
       "age                0\n",
       "cigsPerDay         0\n",
       "BPMeds             0\n",
       "prevalentStroke    0\n",
       "prevalentHyp       0\n",
       "diabetes           0\n",
       "totChol            0\n",
       "sysBP              0\n",
       "BMI                0\n",
       "heartRate          0\n",
       "TenYearCHD         0\n",
       "dtype: int64"
      ]
     },
     "execution_count": 25,
     "metadata": {},
     "output_type": "execute_result"
    }
   ],
   "source": [
    "# check if there are any missing values\n",
    "df.isna().sum()"
   ]
  },
  {
   "cell_type": "code",
   "execution_count": 26,
   "id": "43a4db10",
   "metadata": {},
   "outputs": [],
   "source": [
    "# Now we combine all the preprocessing steps into a single function.\n",
    "def preprocess_data(data_dir):\n",
    "    df = pd.read_csv(data_dir)\n",
    "\n",
    "    df = df.drop(['currentSmoker','diaBP'], axis=1)\n",
    "    # First of all, as only single row has missing heart rate, we can drop it\n",
    "    df = df[df['heartRate'].notnull()]\n",
    "\n",
    "    # Knowing that education has negative correlation with TenYearCHD and\n",
    "    # is possibly a feature that will acts as noise in this problem where other health realted features are more important\n",
    "    # removing the education feature from the dataset\n",
    "    df = df.drop('education', axis = 1)\n",
    "    # the numbers of rows with missing values are less\n",
    "\n",
    "    # cigsPerDay is totally random and cannot be estimated\n",
    "    # hence removing the rows with missing cigsPerDay values\n",
    "    df = df[df['cigsPerDay'].notnull()]\n",
    "\n",
    "    # now replacing the NaNs with 0 where prevalentHyp is 0\n",
    "    df.loc[(df.BPMeds.isna()) & (df.prevalentHyp == 0), 'BPMeds'] = 0\n",
    "\n",
    "    # now removing the remaining empty BPMeds rows\n",
    "    df = df[df['BPMeds'].notnull()]\n",
    "\n",
    "    # removing rows with total cholesterol missing values\n",
    "    df = df[df['totChol'].notnull()]\n",
    "\n",
    "    # removing rows where BMI is null\n",
    "    df = df[df['BMI'].notnull()]\n",
    "\n",
    "    # removing glucose feature\n",
    "    df = df.drop(['glucose'], axis=1)\n",
    "\n",
    "    # check if there are any missing values\n",
    "    # print(df.isna().sum())\n",
    "    missing_summary(df)\n",
    "    return df"
   ]
  },
  {
   "cell_type": "code",
   "execution_count": 27,
   "id": "98f95216",
   "metadata": {},
   "outputs": [
    {
     "name": "stdout",
     "output_type": "stream",
     "text": [
      "                 Total_non_missing  missing_count  missing_percentage\n",
      "male                          3699              0                 0.0\n",
      "age                           3699              0                 0.0\n",
      "cigsPerDay                    3699              0                 0.0\n",
      "BPMeds                        3699              0                 0.0\n",
      "prevalentStroke               3699              0                 0.0\n",
      "prevalentHyp                  3699              0                 0.0\n",
      "diabetes                      3699              0                 0.0\n",
      "totChol                       3699              0                 0.0\n",
      "sysBP                         3699              0                 0.0\n",
      "BMI                           3699              0                 0.0\n",
      "heartRate                     3699              0                 0.0\n",
      "TenYearCHD                    3699              0                 0.0\n"
     ]
    }
   ],
   "source": [
    "df = preprocess_data('project1_logreg.csv')"
   ]
  },
  {
   "cell_type": "code",
   "execution_count": 28,
   "id": "52d21e93",
   "metadata": {},
   "outputs": [],
   "source": [
    "tenyearchd = df['TenYearCHD']\n",
    "df_features = df.drop('TenYearCHD',axis=1)"
   ]
  },
  {
   "cell_type": "code",
   "execution_count": 29,
   "id": "ee8a883a",
   "metadata": {},
   "outputs": [
    {
     "name": "stdout",
     "output_type": "stream",
     "text": [
      "(2959,) (2959, 11)\n",
      "(740,) (740, 11)\n"
     ]
    }
   ],
   "source": [
    "from sklearn.model_selection import train_test_split\n",
    "# As the data is not balanced, we use stratify splitting which keeps the ratio of selected feature same in train and test set.\n",
    "X_train, X_test, y_train, y_test = train_test_split(df_features, tenyearchd, test_size=0.2, stratify=tenyearchd, random_state=21)\n",
    "\n",
    "print(y_train.shape, X_train.shape)\n",
    "print(y_test.shape, X_test.shape)"
   ]
  },
  {
   "cell_type": "code",
   "execution_count": 30,
   "id": "9c35ed9d",
   "metadata": {},
   "outputs": [],
   "source": [
    "from sklearn.pipeline import Pipeline\n",
    "from sklearn.preprocessing import  MinMaxScaler, RobustScaler, StandardScaler, Normalizer\n",
    "from sklearn.model_selection import GridSearchCV\n",
    "from sklearn.linear_model import LogisticRegressionCV\n",
    "# as the data is highly imbalanced, we need used class_weight='balanced'\n",
    "# as we dont want to label a positive case as negative we use recall scoring even though a negative case might be predicted as positive\n",
    "# Also logistic regression has a version with cross validation, we use it stratified cross validation \n",
    "pipe = Pipeline(steps =[('scaler', MinMaxScaler()), ('logistic_reg', LogisticRegressionCV(Cs=20, cv =5,\n",
    "                         max_iter= 500, class_weight='balanced', scoring ='recall', random_state= 21)) ])\n"
   ]
  },
  {
   "cell_type": "code",
   "execution_count": 31,
   "id": "dfa85f78",
   "metadata": {},
   "outputs": [
    {
     "data": {
      "text/html": [
       "<style>#sk-container-id-1 {color: black;}#sk-container-id-1 pre{padding: 0;}#sk-container-id-1 div.sk-toggleable {background-color: white;}#sk-container-id-1 label.sk-toggleable__label {cursor: pointer;display: block;width: 100%;margin-bottom: 0;padding: 0.3em;box-sizing: border-box;text-align: center;}#sk-container-id-1 label.sk-toggleable__label-arrow:before {content: \"▸\";float: left;margin-right: 0.25em;color: #696969;}#sk-container-id-1 label.sk-toggleable__label-arrow:hover:before {color: black;}#sk-container-id-1 div.sk-estimator:hover label.sk-toggleable__label-arrow:before {color: black;}#sk-container-id-1 div.sk-toggleable__content {max-height: 0;max-width: 0;overflow: hidden;text-align: left;background-color: #f0f8ff;}#sk-container-id-1 div.sk-toggleable__content pre {margin: 0.2em;color: black;border-radius: 0.25em;background-color: #f0f8ff;}#sk-container-id-1 input.sk-toggleable__control:checked~div.sk-toggleable__content {max-height: 200px;max-width: 100%;overflow: auto;}#sk-container-id-1 input.sk-toggleable__control:checked~label.sk-toggleable__label-arrow:before {content: \"▾\";}#sk-container-id-1 div.sk-estimator input.sk-toggleable__control:checked~label.sk-toggleable__label {background-color: #d4ebff;}#sk-container-id-1 div.sk-label input.sk-toggleable__control:checked~label.sk-toggleable__label {background-color: #d4ebff;}#sk-container-id-1 input.sk-hidden--visually {border: 0;clip: rect(1px 1px 1px 1px);clip: rect(1px, 1px, 1px, 1px);height: 1px;margin: -1px;overflow: hidden;padding: 0;position: absolute;width: 1px;}#sk-container-id-1 div.sk-estimator {font-family: monospace;background-color: #f0f8ff;border: 1px dotted black;border-radius: 0.25em;box-sizing: border-box;margin-bottom: 0.5em;}#sk-container-id-1 div.sk-estimator:hover {background-color: #d4ebff;}#sk-container-id-1 div.sk-parallel-item::after {content: \"\";width: 100%;border-bottom: 1px solid gray;flex-grow: 1;}#sk-container-id-1 div.sk-label:hover label.sk-toggleable__label {background-color: #d4ebff;}#sk-container-id-1 div.sk-serial::before {content: \"\";position: absolute;border-left: 1px solid gray;box-sizing: border-box;top: 0;bottom: 0;left: 50%;z-index: 0;}#sk-container-id-1 div.sk-serial {display: flex;flex-direction: column;align-items: center;background-color: white;padding-right: 0.2em;padding-left: 0.2em;position: relative;}#sk-container-id-1 div.sk-item {position: relative;z-index: 1;}#sk-container-id-1 div.sk-parallel {display: flex;align-items: stretch;justify-content: center;background-color: white;position: relative;}#sk-container-id-1 div.sk-item::before, #sk-container-id-1 div.sk-parallel-item::before {content: \"\";position: absolute;border-left: 1px solid gray;box-sizing: border-box;top: 0;bottom: 0;left: 50%;z-index: -1;}#sk-container-id-1 div.sk-parallel-item {display: flex;flex-direction: column;z-index: 1;position: relative;background-color: white;}#sk-container-id-1 div.sk-parallel-item:first-child::after {align-self: flex-end;width: 50%;}#sk-container-id-1 div.sk-parallel-item:last-child::after {align-self: flex-start;width: 50%;}#sk-container-id-1 div.sk-parallel-item:only-child::after {width: 0;}#sk-container-id-1 div.sk-dashed-wrapped {border: 1px dashed gray;margin: 0 0.4em 0.5em 0.4em;box-sizing: border-box;padding-bottom: 0.4em;background-color: white;}#sk-container-id-1 div.sk-label label {font-family: monospace;font-weight: bold;display: inline-block;line-height: 1.2em;}#sk-container-id-1 div.sk-label-container {text-align: center;}#sk-container-id-1 div.sk-container {/* jupyter's `normalize.less` sets `[hidden] { display: none; }` but bootstrap.min.css set `[hidden] { display: none !important; }` so we also need the `!important` here to be able to override the default hidden behavior on the sphinx rendered scikit-learn.org. See: https://github.com/scikit-learn/scikit-learn/issues/21755 */display: inline-block !important;position: relative;}#sk-container-id-1 div.sk-text-repr-fallback {display: none;}</style><div id=\"sk-container-id-1\" class=\"sk-top-container\"><div class=\"sk-text-repr-fallback\"><pre>Pipeline(steps=[(&#x27;scaler&#x27;, MinMaxScaler()),\n",
       "                (&#x27;logistic_reg&#x27;,\n",
       "                 LogisticRegressionCV(Cs=20, class_weight=&#x27;balanced&#x27;, cv=5,\n",
       "                                      max_iter=500, random_state=21,\n",
       "                                      scoring=&#x27;recall&#x27;))])</pre><b>In a Jupyter environment, please rerun this cell to show the HTML representation or trust the notebook. <br />On GitHub, the HTML representation is unable to render, please try loading this page with nbviewer.org.</b></div><div class=\"sk-container\" hidden><div class=\"sk-item sk-dashed-wrapped\"><div class=\"sk-label-container\"><div class=\"sk-label sk-toggleable\"><input class=\"sk-toggleable__control sk-hidden--visually\" id=\"sk-estimator-id-1\" type=\"checkbox\" ><label for=\"sk-estimator-id-1\" class=\"sk-toggleable__label sk-toggleable__label-arrow\">Pipeline</label><div class=\"sk-toggleable__content\"><pre>Pipeline(steps=[(&#x27;scaler&#x27;, MinMaxScaler()),\n",
       "                (&#x27;logistic_reg&#x27;,\n",
       "                 LogisticRegressionCV(Cs=20, class_weight=&#x27;balanced&#x27;, cv=5,\n",
       "                                      max_iter=500, random_state=21,\n",
       "                                      scoring=&#x27;recall&#x27;))])</pre></div></div></div><div class=\"sk-serial\"><div class=\"sk-item\"><div class=\"sk-estimator sk-toggleable\"><input class=\"sk-toggleable__control sk-hidden--visually\" id=\"sk-estimator-id-2\" type=\"checkbox\" ><label for=\"sk-estimator-id-2\" class=\"sk-toggleable__label sk-toggleable__label-arrow\">MinMaxScaler</label><div class=\"sk-toggleable__content\"><pre>MinMaxScaler()</pre></div></div></div><div class=\"sk-item\"><div class=\"sk-estimator sk-toggleable\"><input class=\"sk-toggleable__control sk-hidden--visually\" id=\"sk-estimator-id-3\" type=\"checkbox\" ><label for=\"sk-estimator-id-3\" class=\"sk-toggleable__label sk-toggleable__label-arrow\">LogisticRegressionCV</label><div class=\"sk-toggleable__content\"><pre>LogisticRegressionCV(Cs=20, class_weight=&#x27;balanced&#x27;, cv=5, max_iter=500,\n",
       "                     random_state=21, scoring=&#x27;recall&#x27;)</pre></div></div></div></div></div></div></div>"
      ],
      "text/plain": [
       "Pipeline(steps=[('scaler', MinMaxScaler()),\n",
       "                ('logistic_reg',\n",
       "                 LogisticRegressionCV(Cs=20, class_weight='balanced', cv=5,\n",
       "                                      max_iter=500, random_state=21,\n",
       "                                      scoring='recall'))])"
      ]
     },
     "execution_count": 31,
     "metadata": {},
     "output_type": "execute_result"
    }
   ],
   "source": [
    "clf = pipe\n",
    "clf.fit(X_train, y_train)"
   ]
  },
  {
   "cell_type": "code",
   "execution_count": 32,
   "id": "fb782508",
   "metadata": {},
   "outputs": [
    {
     "data": {
      "text/plain": [
       "{'memory': None,\n",
       " 'steps': [('scaler', MinMaxScaler()),\n",
       "  ('logistic_reg',\n",
       "   LogisticRegressionCV(Cs=20, class_weight='balanced', cv=5, max_iter=500,\n",
       "                        random_state=21, scoring='recall'))],\n",
       " 'verbose': False,\n",
       " 'scaler': MinMaxScaler(),\n",
       " 'logistic_reg': LogisticRegressionCV(Cs=20, class_weight='balanced', cv=5, max_iter=500,\n",
       "                      random_state=21, scoring='recall'),\n",
       " 'scaler__clip': False,\n",
       " 'scaler__copy': True,\n",
       " 'scaler__feature_range': (0, 1),\n",
       " 'logistic_reg__Cs': 20,\n",
       " 'logistic_reg__class_weight': 'balanced',\n",
       " 'logistic_reg__cv': 5,\n",
       " 'logistic_reg__dual': False,\n",
       " 'logistic_reg__fit_intercept': True,\n",
       " 'logistic_reg__intercept_scaling': 1.0,\n",
       " 'logistic_reg__l1_ratios': None,\n",
       " 'logistic_reg__max_iter': 500,\n",
       " 'logistic_reg__multi_class': 'auto',\n",
       " 'logistic_reg__n_jobs': None,\n",
       " 'logistic_reg__penalty': 'l2',\n",
       " 'logistic_reg__random_state': 21,\n",
       " 'logistic_reg__refit': True,\n",
       " 'logistic_reg__scoring': 'recall',\n",
       " 'logistic_reg__solver': 'lbfgs',\n",
       " 'logistic_reg__tol': 0.0001,\n",
       " 'logistic_reg__verbose': 0}"
      ]
     },
     "execution_count": 32,
     "metadata": {},
     "output_type": "execute_result"
    }
   ],
   "source": [
    "clf.get_params()"
   ]
  },
  {
   "cell_type": "code",
   "execution_count": 33,
   "id": "15b16d42",
   "metadata": {},
   "outputs": [],
   "source": [
    "preds = clf.predict(X_test)"
   ]
  },
  {
   "cell_type": "code",
   "execution_count": 34,
   "id": "26988faf",
   "metadata": {},
   "outputs": [
    {
     "data": {
      "text/plain": [
       "array([[0.45981568, 0.54018432],\n",
       "       [0.23182992, 0.76817008],\n",
       "       [0.2266092 , 0.7733908 ],\n",
       "       ...,\n",
       "       [0.39824716, 0.60175284],\n",
       "       [0.44898074, 0.55101926],\n",
       "       [0.10687152, 0.89312848]])"
      ]
     },
     "execution_count": 34,
     "metadata": {},
     "output_type": "execute_result"
    }
   ],
   "source": [
    "clf.predict_proba(X_test)"
   ]
  },
  {
   "cell_type": "code",
   "execution_count": 35,
   "metadata": {},
   "outputs": [
    {
     "name": "stdout",
     "output_type": "stream",
     "text": [
      "0.6527027027027027\n",
      "0.3493670886075949\n",
      "0.6330275229357798\n",
      "0.24125874125874125\n"
     ]
    }
   ],
   "source": [
    "from sklearn.metrics import accuracy_score, fbeta_score, recall_score, precision_score, make_scorer\n",
    "\n",
    "print(accuracy_score(y_test, preds))\n",
    "print(fbeta_score(y_test, preds,beta= 1))\n",
    "print(recall_score(y_test, preds))\n",
    "print(precision_score(y_test, preds))"
   ]
  },
  {
   "cell_type": "code",
   "execution_count": 36,
   "metadata": {},
   "outputs": [
    {
     "data": {
      "text/plain": [
       "<sklearn.metrics._plot.confusion_matrix.ConfusionMatrixDisplay at 0x7fdb4ca0ad90>"
      ]
     },
     "execution_count": 36,
     "metadata": {},
     "output_type": "execute_result"
    },
    {
     "data": {
      "image/png": "[encoded data removed]",
      "text/plain": [
       "<Figure size 640x480 with 2 Axes>"
      ]
     },
     "metadata": {},
     "output_type": "display_data"
    }
   ],
   "source": [
    "from sklearn.metrics import confusion_matrix, ConfusionMatrixDisplay\n",
    "cm = confusion_matrix(y_test, preds, labels=clf.classes_)\n",
    "disp = ConfusionMatrixDisplay(confusion_matrix=cm, display_labels=clf.classes_)\n",
    "disp.plot()"
   ]
  },
  {
   "cell_type": "markdown",
   "id": "bf3b59ae",
   "metadata": {},
   "source": [
    "It can be seen from the confusion matrix that false negatives are least and there are large number of false positives because **recall** scoring method was used."
   ]
  },
  {
   "cell_type": "markdown",
   "id": "c318ec2a",
   "metadata": {},
   "source": [
    "# Imputation approach\n",
    "In the above approach we removed the rows with missing values.\n",
    "Now lets try to impute the missing values."
   ]
  },
  {
   "cell_type": "code",
   "execution_count": 37,
   "id": "c3e80459",
   "metadata": {},
   "outputs": [],
   "source": [
    "# Now we combine all the preprocessing steps into a single function.\n",
    "def preprocess_data_v1(data_dir):\n",
    "    df = pd.read_csv(data_dir)\n",
    "\n",
    "    df = df.drop(['currentSmoker','diaBP'], axis=1)\n",
    "  \n",
    "    # Knowing that education has negative correlation with TenYearCHD and\n",
    "    # is possibly a feature that will acts as noise in this problem where other health realted features are more important\n",
    "    # removing the education feature from the dataset\n",
    "    df = df.drop('education', axis = 1)\n",
    "    # the numbers of rows with missing values are less\n",
    "\n",
    "    # now replacing the NaNs with 0 where prevalentHyp is 0\n",
    "    df.loc[(df.BPMeds.isna()) & (df.prevalentHyp == 0), 'BPMeds'] = 0\n",
    "\n",
    "    # removing glucose feature\n",
    "    df = df.drop(['glucose'], axis=1)\n",
    "\n",
    "    # check if there are any missing values\n",
    "    missing_summary(df)\n",
    "    return df"
   ]
  },
  {
   "cell_type": "code",
   "execution_count": 38,
   "id": "e2ab098a",
   "metadata": {},
   "outputs": [
    {
     "name": "stdout",
     "output_type": "stream",
     "text": [
      "                 Total_non_missing  missing_count  missing_percentage\n",
      "male                          3811              0            0.000000\n",
      "age                           3811              0            0.000000\n",
      "cigsPerDay                    3785             26            0.682236\n",
      "BPMeds                        3790             21            0.551036\n",
      "prevalentStroke               3811              0            0.000000\n",
      "prevalentHyp                  3811              0            0.000000\n",
      "diabetes                      3811              0            0.000000\n",
      "totChol                       3765             46            1.207032\n",
      "sysBP                         3811              0            0.000000\n",
      "BMI                           3792             19            0.498557\n",
      "heartRate                     3810              1            0.026240\n",
      "TenYearCHD                    3811              0            0.000000\n"
     ]
    }
   ],
   "source": [
    "df = preprocess_data_v1('project1_logreg.csv')"
   ]
  },
  {
   "cell_type": "code",
   "execution_count": 39,
   "id": "88977714",
   "metadata": {},
   "outputs": [],
   "source": [
    "tenyearchd = df['TenYearCHD']\n",
    "df_features = df.drop('TenYearCHD',axis=1)"
   ]
  },
  {
   "cell_type": "code",
   "execution_count": 40,
   "id": "84cd46bb",
   "metadata": {},
   "outputs": [
    {
     "name": "stdout",
     "output_type": "stream",
     "text": [
      "(3048,) (3048, 11)\n",
      "(763,) (763, 11)\n"
     ]
    }
   ],
   "source": [
    "from sklearn.model_selection import train_test_split\n",
    "# As the data is not balanced, we use stratify splitting which keeps the ratio of selected feature same in train and test set.\n",
    "X_train, X_test, y_train, y_test = train_test_split(df_features, tenyearchd, test_size=0.2, stratify=tenyearchd, random_state=21)\n",
    "\n",
    "print(y_train.shape, X_train.shape)\n",
    "print(y_test.shape, X_test.shape)"
   ]
  },
  {
   "cell_type": "code",
   "execution_count": 41,
   "id": "f3c29d33",
   "metadata": {},
   "outputs": [],
   "source": [
    "from sklearn.pipeline import Pipeline\n",
    "from sklearn.preprocessing import  MinMaxScaler, RobustScaler, StandardScaler, Normalizer\n",
    "from sklearn.model_selection import GridSearchCV\n",
    "from sklearn.linear_model import LogisticRegressionCV\n",
    "from sklearn.impute import KNNImputer, SimpleImputer\n",
    "# as the data is highly imbalanced, we need used class_weight='balanced'\n",
    "# as we dont want to label a positive case as negative we use recall scoring even though a negative case might be predicted as positive\n",
    "# Also logistic regression has a version with cross validation, we use it stratified cross validation \n",
    "clf = Pipeline(steps =[('imputer', KNNImputer(n_neighbors=5)), ('scaler', MinMaxScaler()), ('logistic_reg', LogisticRegressionCV(Cs=20, cv =5,\n",
    "                         max_iter= 500, class_weight='balanced', scoring ='recall', random_state= 21)) ])\n"
   ]
  },
  {
   "cell_type": "code",
   "execution_count": 42,
   "id": "a17e9cc0",
   "metadata": {},
   "outputs": [
    {
     "data": {
      "text/html": [
       "<style>#sk-container-id-2 {color: black;}#sk-container-id-2 pre{padding: 0;}#sk-container-id-2 div.sk-toggleable {background-color: white;}#sk-container-id-2 label.sk-toggleable__label {cursor: pointer;display: block;width: 100%;margin-bottom: 0;padding: 0.3em;box-sizing: border-box;text-align: center;}#sk-container-id-2 label.sk-toggleable__label-arrow:before {content: \"▸\";float: left;margin-right: 0.25em;color: #696969;}#sk-container-id-2 label.sk-toggleable__label-arrow:hover:before {color: black;}#sk-container-id-2 div.sk-estimator:hover label.sk-toggleable__label-arrow:before {color: black;}#sk-container-id-2 div.sk-toggleable__content {max-height: 0;max-width: 0;overflow: hidden;text-align: left;background-color: #f0f8ff;}#sk-container-id-2 div.sk-toggleable__content pre {margin: 0.2em;color: black;border-radius: 0.25em;background-color: #f0f8ff;}#sk-container-id-2 input.sk-toggleable__control:checked~div.sk-toggleable__content {max-height: 200px;max-width: 100%;overflow: auto;}#sk-container-id-2 input.sk-toggleable__control:checked~label.sk-toggleable__label-arrow:before {content: \"▾\";}#sk-container-id-2 div.sk-estimator input.sk-toggleable__control:checked~label.sk-toggleable__label {background-color: #d4ebff;}#sk-container-id-2 div.sk-label input.sk-toggleable__control:checked~label.sk-toggleable__label {background-color: #d4ebff;}#sk-container-id-2 input.sk-hidden--visually {border: 0;clip: rect(1px 1px 1px 1px);clip: rect(1px, 1px, 1px, 1px);height: 1px;margin: -1px;overflow: hidden;padding: 0;position: absolute;width: 1px;}#sk-container-id-2 div.sk-estimator {font-family: monospace;background-color: #f0f8ff;border: 1px dotted black;border-radius: 0.25em;box-sizing: border-box;margin-bottom: 0.5em;}#sk-container-id-2 div.sk-estimator:hover {background-color: #d4ebff;}#sk-container-id-2 div.sk-parallel-item::after {content: \"\";width: 100%;border-bottom: 1px solid gray;flex-grow: 1;}#sk-container-id-2 div.sk-label:hover label.sk-toggleable__label {background-color: #d4ebff;}#sk-container-id-2 div.sk-serial::before {content: \"\";position: absolute;border-left: 1px solid gray;box-sizing: border-box;top: 0;bottom: 0;left: 50%;z-index: 0;}#sk-container-id-2 div.sk-serial {display: flex;flex-direction: column;align-items: center;background-color: white;padding-right: 0.2em;padding-left: 0.2em;position: relative;}#sk-container-id-2 div.sk-item {position: relative;z-index: 1;}#sk-container-id-2 div.sk-parallel {display: flex;align-items: stretch;justify-content: center;background-color: white;position: relative;}#sk-container-id-2 div.sk-item::before, #sk-container-id-2 div.sk-parallel-item::before {content: \"\";position: absolute;border-left: 1px solid gray;box-sizing: border-box;top: 0;bottom: 0;left: 50%;z-index: -1;}#sk-container-id-2 div.sk-parallel-item {display: flex;flex-direction: column;z-index: 1;position: relative;background-color: white;}#sk-container-id-2 div.sk-parallel-item:first-child::after {align-self: flex-end;width: 50%;}#sk-container-id-2 div.sk-parallel-item:last-child::after {align-self: flex-start;width: 50%;}#sk-container-id-2 div.sk-parallel-item:only-child::after {width: 0;}#sk-container-id-2 div.sk-dashed-wrapped {border: 1px dashed gray;margin: 0 0.4em 0.5em 0.4em;box-sizing: border-box;padding-bottom: 0.4em;background-color: white;}#sk-container-id-2 div.sk-label label {font-family: monospace;font-weight: bold;display: inline-block;line-height: 1.2em;}#sk-container-id-2 div.sk-label-container {text-align: center;}#sk-container-id-2 div.sk-container {/* jupyter's `normalize.less` sets `[hidden] { display: none; }` but bootstrap.min.css set `[hidden] { display: none !important; }` so we also need the `!important` here to be able to override the default hidden behavior on the sphinx rendered scikit-learn.org. See: https://github.com/scikit-learn/scikit-learn/issues/21755 */display: inline-block !important;position: relative;}#sk-container-id-2 div.sk-text-repr-fallback {display: none;}</style><div id=\"sk-container-id-2\" class=\"sk-top-container\"><div class=\"sk-text-repr-fallback\"><pre>Pipeline(steps=[(&#x27;imputer&#x27;, KNNImputer()), (&#x27;scaler&#x27;, MinMaxScaler()),\n",
       "                (&#x27;logistic_reg&#x27;,\n",
       "                 LogisticRegressionCV(Cs=20, class_weight=&#x27;balanced&#x27;, cv=5,\n",
       "                                      max_iter=500, random_state=21,\n",
       "                                      scoring=&#x27;recall&#x27;))])</pre><b>In a Jupyter environment, please rerun this cell to show the HTML representation or trust the notebook. <br />On GitHub, the HTML representation is unable to render, please try loading this page with nbviewer.org.</b></div><div class=\"sk-container\" hidden><div class=\"sk-item sk-dashed-wrapped\"><div class=\"sk-label-container\"><div class=\"sk-label sk-toggleable\"><input class=\"sk-toggleable__control sk-hidden--visually\" id=\"sk-estimator-id-4\" type=\"checkbox\" ><label for=\"sk-estimator-id-4\" class=\"sk-toggleable__label sk-toggleable__label-arrow\">Pipeline</label><div class=\"sk-toggleable__content\"><pre>Pipeline(steps=[(&#x27;imputer&#x27;, KNNImputer()), (&#x27;scaler&#x27;, MinMaxScaler()),\n",
       "                (&#x27;logistic_reg&#x27;,\n",
       "                 LogisticRegressionCV(Cs=20, class_weight=&#x27;balanced&#x27;, cv=5,\n",
       "                                      max_iter=500, random_state=21,\n",
       "                                      scoring=&#x27;recall&#x27;))])</pre></div></div></div><div class=\"sk-serial\"><div class=\"sk-item\"><div class=\"sk-estimator sk-toggleable\"><input class=\"sk-toggleable__control sk-hidden--visually\" id=\"sk-estimator-id-5\" type=\"checkbox\" ><label for=\"sk-estimator-id-5\" class=\"sk-toggleable__label sk-toggleable__label-arrow\">KNNImputer</label><div class=\"sk-toggleable__content\"><pre>KNNImputer()</pre></div></div></div><div class=\"sk-item\"><div class=\"sk-estimator sk-toggleable\"><input class=\"sk-toggleable__control sk-hidden--visually\" id=\"sk-estimator-id-6\" type=\"checkbox\" ><label for=\"sk-estimator-id-6\" class=\"sk-toggleable__label sk-toggleable__label-arrow\">MinMaxScaler</label><div class=\"sk-toggleable__content\"><pre>MinMaxScaler()</pre></div></div></div><div class=\"sk-item\"><div class=\"sk-estimator sk-toggleable\"><input class=\"sk-toggleable__control sk-hidden--visually\" id=\"sk-estimator-id-7\" type=\"checkbox\" ><label for=\"sk-estimator-id-7\" class=\"sk-toggleable__label sk-toggleable__label-arrow\">LogisticRegressionCV</label><div class=\"sk-toggleable__content\"><pre>LogisticRegressionCV(Cs=20, class_weight=&#x27;balanced&#x27;, cv=5, max_iter=500,\n",
       "                     random_state=21, scoring=&#x27;recall&#x27;)</pre></div></div></div></div></div></div></div>"
      ],
      "text/plain": [
       "Pipeline(steps=[('imputer', KNNImputer()), ('scaler', MinMaxScaler()),\n",
       "                ('logistic_reg',\n",
       "                 LogisticRegressionCV(Cs=20, class_weight='balanced', cv=5,\n",
       "                                      max_iter=500, random_state=21,\n",
       "                                      scoring='recall'))])"
      ]
     },
     "execution_count": 42,
     "metadata": {},
     "output_type": "execute_result"
    }
   ],
   "source": [
    "clf.fit(X_train, y_train)"
   ]
  },
  {
   "cell_type": "code",
   "execution_count": 43,
   "id": "a3548869",
   "metadata": {},
   "outputs": [],
   "source": [
    "preds = clf.predict(X_test)"
   ]
  },
  {
   "cell_type": "code",
   "execution_count": 44,
   "id": "342a9bfe",
   "metadata": {},
   "outputs": [
    {
     "data": {
      "text/plain": [
       "array([[0.84623559, 0.15376441],\n",
       "       [0.66941786, 0.33058214],\n",
       "       [0.66340674, 0.33659326],\n",
       "       ...,\n",
       "       [0.36087254, 0.63912746],\n",
       "       [0.63059598, 0.36940402],\n",
       "       [0.63360686, 0.36639314]])"
      ]
     },
     "execution_count": 44,
     "metadata": {},
     "output_type": "execute_result"
    }
   ],
   "source": [
    "clf.predict_proba(X_test)"
   ]
  },
  {
   "cell_type": "code",
   "execution_count": 45,
   "id": "5f01f98d",
   "metadata": {},
   "outputs": [
    {
     "name": "stdout",
     "output_type": "stream",
     "text": [
      "0.6605504587155964\n",
      "0.34760705289672544\n",
      "0.6\n",
      "0.24468085106382978\n"
     ]
    }
   ],
   "source": [
    "from sklearn.metrics import accuracy_score, fbeta_score, recall_score, precision_score, make_scorer\n",
    "\n",
    "print(accuracy_score(y_test, preds))\n",
    "print(fbeta_score(y_test, preds,beta= 1))\n",
    "print(recall_score(y_test, preds))\n",
    "print(precision_score(y_test, preds))"
   ]
  },
  {
   "cell_type": "code",
   "execution_count": 46,
   "id": "dc9d6c6d",
   "metadata": {},
   "outputs": [
    {
     "data": {
      "text/plain": [
       "<sklearn.metrics._plot.confusion_matrix.ConfusionMatrixDisplay at 0x7fdb4e3c3910>"
      ]
     },
     "execution_count": 46,
     "metadata": {},
     "output_type": "execute_result"
    },
    {
     "data": {
      "image/png": "[encoded data removed]",
      "text/plain": [
       "<Figure size 640x480 with 2 Axes>"
      ]
     },
     "metadata": {},
     "output_type": "display_data"
    }
   ],
   "source": [
    "from sklearn.metrics import confusion_matrix, ConfusionMatrixDisplay\n",
    "cm = confusion_matrix(y_test, preds, labels=clf.classes_)\n",
    "disp = ConfusionMatrixDisplay(confusion_matrix=cm, display_labels=clf.classes_)\n",
    "disp.plot()"
   ]
  },
  {
   "cell_type": "markdown",
   "id": "bff2a099",
   "metadata": {},
   "source": [
    "In this method, we have not lost any sample data. However, there is a 3 % drop in recall score which is mainly because of unremoved samples."
   ]
  },
  {
   "cell_type": "code",
   "execution_count": null,
   "id": "529b5b4b",
   "metadata": {},
   "outputs": [],
   "source": []
  }
 ],
 "metadata": {
  "interpreter": {
   "hash": "95c6babcd41eedf20956dd5d1d19f787532ffc231d1cc23b3994d5d2f0f044f7"
  },
  "kernelspec": {
   "display_name": "Python 3 (ipykernel)",
   "language": "python",
   "name": "python3"
  },
  "language_info": {
   "codemirror_mode": {
    "name": "ipython",
    "version": 3
   },
   "file_extension": ".py",
   "mimetype": "text/x-python",
   "name": "python",
   "nbconvert_exporter": "python",
   "pygments_lexer": "ipython3",
   "version": "3.11.4"
  }
 },
 "nbformat": 4,
 "nbformat_minor": 5
}
